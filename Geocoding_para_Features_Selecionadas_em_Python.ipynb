{
  "nbformat": 4,
  "nbformat_minor": 0,
  "metadata": {
    "colab": {
      "provenance": [],
      "authorship_tag": "ABX9TyMMATPdsf3SKfGQXEJcMHt/",
      "include_colab_link": true
    },
    "kernelspec": {
      "name": "python3",
      "display_name": "Python 3"
    },
    "language_info": {
      "name": "python"
    }
  },
  "cells": [
    {
      "cell_type": "markdown",
      "metadata": {
        "id": "view-in-github",
        "colab_type": "text"
      },
      "source": [
        "<a href=\"https://colab.research.google.com/github/RebecaGis/Py/blob/main/Geocoding_para_Features_Selecionadas_em_Python.ipynb\" target=\"_parent\"><img src=\"https://colab.research.google.com/assets/colab-badge.svg\" alt=\"Open In Colab\"/></a>"
      ]
    },
    {
      "cell_type": "code",
      "execution_count": null,
      "metadata": {
        "id": "N20tRJ_3Swj3"
      },
      "outputs": [],
      "source": [
        "import arcpy\n",
        "import requests\n",
        "import time\n",
        "\n",
        "# Configurações\n",
        "shapefile = r\"C:CAMINHO/DO/ARQUIVO/AQUI\"\n",
        "campo_lat = \"Latitude\"  # substitua pelo nome real do campo\n",
        "campo_lon = \"Longitude\"  # substitua pelo nome real do campo\n",
        "campo_endereco = \"Endereço\"  # campo a ser preenchido\n",
        "\n",
        "# Verificar se há features selecionadas\n",
        "num_selecionados = int(arcpy.GetCount_management(shapefile).getOutput(0))\n",
        "if num_selecionados == 0:\n",
        "    print(\"Nenhuma feature selecionada. Por favor, selecione pelo menos uma feature para geocodificar.\")\n",
        "    exit()\n",
        "\n",
        "# Verificar se o campo Endereço existe, se não, criar\n",
        "if campo_endereco not in [field.name for field in arcpy.ListFields(shapefile)]:\n",
        "    arcpy.AddField_management(shapefile, campo_endereco, \"TEXT\", field_length=200)\n",
        "\n",
        "# Função para geocodificação reversa usando Nominatim (OpenStreetMap)\n",
        "def get_address(lat, lon):\n",
        "    try:\n",
        "        url = f\"https://nominatim.openstreetmap.org/reverse?format=json&lat={lat}&lon={lon}&zoom=18&addressdetails=1\"\n",
        "        headers = {'User-Agent': 'PDAU-Geocoding/1.0'}  # Necessário para Nominatim\n",
        "        response = requests.get(url, headers=headers).json()\n",
        "\n",
        "        # Extrair componentes do endereço\n",
        "        address = response.get('address', {})\n",
        "        endereco = \"\"\n",
        "\n",
        "        # Construir endereço formatado\n",
        "        if 'road' in address:\n",
        "            endereco += address['road']\n",
        "            if 'house_number' in address:\n",
        "                endereco += f\", {address['house_number']}\"\n",
        "        elif 'pedestrian' in address:\n",
        "            endereco += address['pedestrian']\n",
        "\n",
        "        if 'suburb' in address:\n",
        "            endereco += f\", {address['suburb']}\"\n",
        "        elif 'neighbourhood' in address:\n",
        "            endereco += f\", {address['neighbourhood']}\"\n",
        "\n",
        "        if 'city' in address:\n",
        "            endereco += f\", {address['city']}\"\n",
        "        elif 'town' in address:\n",
        "            endereco += f\", {address['town']}\"\n",
        "\n",
        "        if 'state' in address:\n",
        "            endereco += f\", {address['state']}\"\n",
        "        if 'postcode' in address:\n",
        "            endereco += f\", {address['postcode']}\"\n",
        "        if 'country' in address:\n",
        "            endereco += f\", {address['country']}\"\n",
        "\n",
        "        return endereco if endereco else response.get('display_name', 'Endereço não encontrado')\n",
        "    except Exception as e:\n",
        "        print(f\"Erro ao geocodificar: {str(e)}\")\n",
        "        return \"Erro na geocodificação\"\n",
        "\n",
        "# Atualizar apenas as features selecionadas\n",
        "with arcpy.da.UpdateCursor(shapefile, [campo_lat, campo_lon, campo_endereco], where_clause=None, sql_clause=(None, 'ORDER BY OBJECTID')) as cursor:\n",
        "    contador = 0\n",
        "    total = num_selecionados\n",
        "    for row in cursor:\n",
        "        if not row[2] or row[2] in (\"\", \"Endereço não encontrado\", \"Erro na geocodificação\"):\n",
        "            lat, lon = row[0], row[1]\n",
        "            if lat and lon:\n",
        "                print(f\"Processando {contador+1} de {total}...\")\n",
        "                endereco = get_address(lat, lon)\n",
        "                row[2] = endereco\n",
        "                cursor.updateRow(row)\n",
        "                contador += 1\n",
        "                time.sleep(1.2)  # Respeitar limite de 1 requisição por segundo do Nominatim\n",
        "            else:\n",
        "                row[2] = \"Coordenadas ausentes\"\n",
        "                cursor.updateRow(row)\n",
        "\n",
        "print(f\"\\nProcesso concluído! {contador} endereços foram geocodificados.\")"
      ]
    }
  ]
}