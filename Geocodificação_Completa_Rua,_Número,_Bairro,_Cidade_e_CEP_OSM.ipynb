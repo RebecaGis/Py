{
  "nbformat": 4,
  "nbformat_minor": 0,
  "metadata": {
    "colab": {
      "provenance": [],
      "authorship_tag": "ABX9TyNjfZX3+CVKhDv53VZIHPP6",
      "include_colab_link": true
    },
    "kernelspec": {
      "name": "python3",
      "display_name": "Python 3"
    },
    "language_info": {
      "name": "python"
    }
  },
  "cells": [
    {
      "cell_type": "markdown",
      "metadata": {
        "id": "view-in-github",
        "colab_type": "text"
      },
      "source": [
        "<a href=\"https://colab.research.google.com/github/RebecaGis/Py/blob/main/Geocodifica%C3%A7%C3%A3o_Completa_Rua%2C_N%C3%BAmero%2C_Bairro%2C_Cidade_e_CEP_OSM.ipynb\" target=\"_parent\"><img src=\"https://colab.research.google.com/assets/colab-badge.svg\" alt=\"Open In Colab\"/></a>"
      ]
    },
    {
      "cell_type": "code",
      "execution_count": null,
      "metadata": {
        "id": "kqxfKEvUA7C7"
      },
      "outputs": [],
      "source": [
        "import arcpy\n",
        "import requests\n",
        "import time\n",
        "\n",
        "# Configurações\n",
        "shapefile = r\"C:CAMINHO/DO/ARQUIVO/AQUI\"\n",
        "campo_lat = \"Latitude\"      # substitua pelo nome real do campo\n",
        "campo_lon = \"Longitude\"     # substitua pelo nome real do campo\n",
        "campo_endereco = \"Endereço\" # campo a ser preenchido\n",
        "\n",
        "# Verificar se o campo Endereço existe, se não, criar\n",
        "if campo_endereco not in [field.name for field in arcpy.ListFields(shapefile)]:\n",
        "    arcpy.AddField_management(shapefile, campo_endereco, \"TEXT\", field_length=255)\n",
        "\n",
        "# Função de geocodificação reversa usando Nominatim\n",
        "def get_address(lat, lon):\n",
        "    try:\n",
        "        url = f\"https://nominatim.openstreetmap.org/reverse?format=json&lat={lat}&lon={lon}&zoom=18&addressdetails=1\"\n",
        "        headers = {'User-Agent': 'PDAU-Geocoding/1.0'}\n",
        "        response = requests.get(url, headers=headers).json()\n",
        "        address = response.get('address', {})\n",
        "\n",
        "        rua = address.get('road') or address.get('pedestrian', '')\n",
        "        numero = address.get('house_number', '')\n",
        "        bairro = address.get('suburb') or address.get('neighbourhood', '')\n",
        "        cidade = address.get('city') or address.get('town', '')\n",
        "        cep = address.get('postcode', '')\n",
        "\n",
        "        componentes = [rua, numero, bairro, cidade, cep]\n",
        "        endereco = ', '.join([c for c in componentes if c])\n",
        "        return endereco if endereco else \"Endereço não encontrado\"\n",
        "    except Exception as e:\n",
        "        print(f\"Erro ao geocodificar ({lat}, {lon}): {str(e)}\")\n",
        "        return \"Erro na geocodificação\"\n",
        "\n",
        "# Atualizar todas as feições\n",
        "with arcpy.da.UpdateCursor(shapefile, [campo_lat, campo_lon, campo_endereco]) as cursor:\n",
        "    contador = 0\n",
        "    for row in cursor:\n",
        "        lat, lon = row[0], row[1]\n",
        "        if not row[2] or row[2] in (\"\", \"Endereço não encontrado\", \"Erro na geocodificação\"):\n",
        "            if lat and lon:\n",
        "                print(f\"Processando {contador + 1}...\")\n",
        "                endereco = get_address(lat, lon)\n",
        "                row[2] = endereco\n",
        "                cursor.updateRow(row)\n",
        "                contador += 1\n",
        "                time.sleep(1.2)  # Nominatim requer mínimo de 1 segundo entre requisições\n",
        "            else:\n",
        "                row[2] = \"Coordenadas ausentes\"\n",
        "                cursor.updateRow(row)\n",
        "\n",
        "print(f\"\\nProcesso concluído! {contador} endereços foram geocodificados.\")\n"
      ]
    }
  ]
}