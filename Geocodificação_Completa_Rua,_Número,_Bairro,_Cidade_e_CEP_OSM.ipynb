{
  "nbformat": 4,
  "nbformat_minor": 0,
  "metadata": {
    "colab": {
      "provenance": [],
      "authorship_tag": "ABX9TyMWVcx+n2FDMWrtsS4ZmZBJ",
      "include_colab_link": true
    },
    "kernelspec": {
      "name": "python3",
      "display_name": "Python 3"
    },
    "language_info": {
      "name": "python"
    }
  },
  "cells": [
    {
      "cell_type": "markdown",
      "metadata": {
        "id": "view-in-github",
        "colab_type": "text"
      },
      "source": [
        "<a href=\"https://colab.research.google.com/github/RebecaGis/Py/blob/main/Geocodifica%C3%A7%C3%A3o_Completa_Rua%2C_N%C3%BAmero%2C_Bairro%2C_Cidade_e_CEP_OSM.ipynb\" target=\"_parent\"><img src=\"https://colab.research.google.com/assets/colab-badge.svg\" alt=\"Open In Colab\"/></a>"
      ]
    },
    {
      "cell_type": "code",
      "execution_count": null,
      "metadata": {
        "id": "kqxfKEvUA7C7"
      },
      "outputs": [],
      "source": [
        "import arcpy\n",
        "import requests\n",
        "import time\n",
        "\n",
        "# Configurações\n",
        "shapefile = r\"C:CAMINHO/DO/ARQUIVO/AQUI\"\n",
        "campo_lat = \"Latitude\"  # substitua pelo nome real do campo\n",
        "campo_lon = \"Longitude\"  # substitua pelo nome real do campo\n",
        "\n",
        "# Campos de endereço que serão preenchidos\n",
        "campos_endereco = {\n",
        "    \"Rua\": \"road\",\n",
        "    \"Número\": \"house_number\",\n",
        "    \"Bairro\": [\"suburb\", \"neighbourhood\"],\n",
        "    \"Cidade\": [\"city\", \"town\"],\n",
        "    \"CEP\": \"postcode\"\n",
        "}\n",
        "\n",
        "# Verificar e criar os campos se necessário\n",
        "for nome_campo in campos_endereco:\n",
        "    if nome_campo not in [field.name for field in arcpy.ListFields(shapefile)]:\n",
        "        arcpy.AddField_management(shapefile, nome_campo, \"TEXT\", field_length=100)\n",
        "\n",
        "# Função para geocodificação reversa usando Nominatim (OpenStreetMap)\n",
        "def get_address_components(lat, lon):\n",
        "    try:\n",
        "        url = f\"https://nominatim.openstreetmap.org/reverse?format=json&lat={lat}&lon={lon}&zoom=18&addressdetails=1\"\n",
        "        headers = {'User-Agent': 'PDAU-Geocoding/1.0'}\n",
        "        response = requests.get(url, headers=headers).json()\n",
        "        address = response.get('address', {})\n",
        "\n",
        "        dados = {\n",
        "            \"Rua\": address.get(\"road\") or address.get(\"pedestrian\", \"\"),\n",
        "            \"Número\": address.get(\"house_number\", \"\"),\n",
        "            \"Bairro\": address.get(\"suburb\") or address.get(\"neighbourhood\", \"\"),\n",
        "            \"Cidade\": address.get(\"city\") or address.get(\"town\", \"\"),\n",
        "            \"CEP\": address.get(\"postcode\", \"\")\n",
        "        }\n",
        "\n",
        "        return dados\n",
        "    except Exception as e:\n",
        "        print(f\"Erro ao geocodificar ({lat}, {lon}): {str(e)}\")\n",
        "        return {k: \"Erro\" for k in campos_endereco}\n",
        "\n",
        "# Atualizar todas as features\n",
        "campos_cursor = [campo_lat, campo_lon] + list(campos_endereco.keys())\n",
        "\n",
        "with arcpy.da.UpdateCursor(shapefile, campos_cursor) as cursor:\n",
        "    contador = 0\n",
        "    for row in cursor:\n",
        "        lat, lon = row[0], row[1]\n",
        "        if lat and lon:\n",
        "            print(f\"Processando feature {contador+1}...\")\n",
        "            dados_endereco = get_address_components(lat, lon)\n",
        "            for i, campo in enumerate(campos_endereco.keys(), start=2):\n",
        "                row[i] = dados_endereco[campo]\n",
        "            cursor.updateRow(row)\n",
        "            contador += 1\n",
        "            time.sleep(1.2)  # Limite da Nominatim\n",
        "        else:\n",
        "            print(f\"Coordenadas ausentes na feature {contador+1}\")\n",
        "            for i in range(2, len(row)):\n",
        "                row[i] = \"Coordenadas ausentes\"\n",
        "            cursor.updateRow(row)\n",
        "            contador += 1\n",
        "\n",
        "print(f\"\\nProcesso concluído! {contador} feições foram atualizadas.\")\n"
      ]
    }
  ]
}